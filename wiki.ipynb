{
  "nbformat": 4,
  "nbformat_minor": 0,
  "metadata": {
    "colab": {
      "private_outputs": true,
      "provenance": []
    },
    "kernelspec": {
      "name": "python3",
      "display_name": "Python 3"
    },
    "language_info": {
      "name": "python"
    }
  },
  "cells": [
    {
      "cell_type": "code",
      "source": [
        "!pip install wikipedia-api\n"
      ],
      "metadata": {
        "id": "kPXvawGGbvbj"
      },
      "execution_count": null,
      "outputs": []
    },
    {
      "cell_type": "code",
      "metadata": {
        "id": "nwAO9PnG2kqf"
      },
      "source": [
        "import wikipediaapi\n",
        "import wikipediaapi\n",
        "wiki_wiki = wikipediaapi.Wikipedia('en')\n",
        "\n",
        "page_py = wiki_wiki.page('Python_(programming_language)')\n",
        "\n",
        "print(\"Page - Exists: %s\" % page_py.exists())\n",
        "\n",
        "page_missing = wiki_wiki.page('NonExistingPageWithStrangeName')\n",
        "print(\"Page - Exists: %s\" %     page_missing.exists())\n",
        "\n",
        "print(\"Page - Title: %s\" % page_py.title)\n",
        "print(\"Page - Summary: %s\" % page_py.summary)\n",
        "\n",
        "print(page_py.fullurl)\n",
        "\n",
        "print(page_py.canonicalurl)\n",
        "print(page_py.text)\n",
        "\n",
        "\n",
        "wiki_wiki = wikipediaapi.Wikipedia(\n",
        "        language='en',\n",
        "        extract_format=wikipediaapi.ExtractFormat.WIKI\n",
        ")\n",
        "\n",
        "p_wiki = wiki_wiki.page(\"Test 1\")\n",
        "print(p_wiki.text)\n",
        "\n",
        "\n",
        "wiki_html = wikipediaapi.Wikipedia(\n",
        "        language='en',\n",
        "        extract_format=wikipediaapi.ExtractFormat.HTML)\n",
        "p_html = wiki_html.page('Python_(programming_language)')\n",
        "\n",
        "print(p_html.text)\n"
      ],
      "execution_count": null,
      "outputs": []
    },
    {
      "cell_type": "code",
      "metadata": {
        "id": "lMKG5gCl4J_5"
      },
      "source": [
        "def print_sections(sections, level=0):\n",
        "        for s in sections:\n",
        "                print(\"%s: %s - %s\" % (\"*\" * (level + 1), s.title, s.text[0:40]))\n",
        "                print_sections(s.sections, level + 1)\n",
        "\n",
        "\n",
        "print_sections(page_py.sections)"
      ],
      "execution_count": null,
      "outputs": []
    },
    {
      "cell_type": "code",
      "metadata": {
        "id": "qfoLAJGO4cRZ"
      },
      "source": [
        "def print_langlinks(page):\n",
        "        langlinks = page.langlinks\n",
        "        for k in sorted(langlinks.keys()):\n",
        "            v = langlinks[k]\n",
        "            print(\"%s: %s - %s: %s\" % (k, v.language, v.title, v.fullurl))\n",
        "\n",
        "print_langlinks(page_py)\n",
        "\n",
        "print(\"Page - Summary: %s\" % page_py_cs.summary[0:60])\n"
      ],
      "execution_count": null,
      "outputs": []
    },
    {
      "cell_type": "code",
      "metadata": {
        "id": "BjZRjcaO5C5j"
      },
      "source": [
        "def print_links(page):\n",
        "        links = page.links\n",
        "        for title in sorted(links.keys()):\n",
        "            print(\"%s: %s\" % (title, links[title]))\n",
        "\n",
        "print_links(page_py)\n",
        "\n",
        "a = list(page_py.links.keys())[0]\n",
        "page_py.links[a].backlinks\n",
        "page_py.links[a].links\n"
      ],
      "execution_count": null,
      "outputs": []
    },
    {
      "cell_type": "code",
      "metadata": {
        "id": "DWpQdXc_51tn"
      },
      "source": [
        "def print_categories(page):\n",
        "        categories = page.categories\n",
        "        for title in sorted(categories.keys()):\n",
        "            print(\"%s: %s\" % (title, categories[title]))\n",
        "\n",
        "\n",
        "print(\"Categories\")\n",
        "print_categories(page_py)\n",
        "\n",
        "def print_categorymembers(categorymembers, level=0, max_level=1):\n",
        "        for c in categorymembers.values():\n",
        "            print(\"%s: %s (ns: %d)\" % (\"*\" * (level + 1), c.title, c.ns))\n",
        "            if c.ns == wikipediaapi.Namespace.CATEGORY and level < max_level:\n",
        "                print_categorymembers(c.categorymembers, level=level + 1, max_level=max_level)\n",
        "\n",
        "\n",
        "cat = wiki_wiki.page(\"Category:Physics\")\n",
        "print(\"Category members: Category:Physics\")\n",
        "print_categorymembers(cat.categorymembers)"
      ],
      "execution_count": null,
      "outputs": []
    }
  ]
}