{
 "cells": [
  {
   "cell_type": "code",
   "execution_count": null,
   "metadata": {},
   "outputs": [
    {
     "name": "stdout",
     "output_type": "stream",
     "text": [
      "72\n"
     ]
    }
   ],
   "source": [
    "## https://www.tiktok.com/@the.virtual.math.lab/video/7128047303373475114?is_copy_url=1&is_from_webapp=v1\n",
    "\n",
    "def is_prime(number):\n",
    "    if number < 2:\n",
    "        return False\n",
    "    for i in range(2, number):\n",
    "        if number % i == 0:\n",
    "            return False\n",
    "    return True\n",
    "\n",
    "\n",
    "mynumbers = list(range(1,21))\n",
    "\n",
    "def get_connections_to_a_number(number):\n",
    "    global mynumbers\n",
    "    connections = []\n",
    "    for i in mynumbers:\n",
    "        if is_prime(abs(i-number)):\n",
    "            connections.append(i)\n",
    "    return connections\n",
    "\n",
    "\n",
    "\n",
    "set_of_solutions = set()\n",
    "for i in mynumbers:\n",
    "    connections = get_connections_to_a_number(i)\n",
    "    for j in connections:\n",
    "        second_connections = get_connections_to_a_number(j)\n",
    "        for k in second_connections:\n",
    "            third_connections = get_connections_to_a_number(k)\n",
    "            if i in third_connections:\n",
    "                solution = str(sorted([i,j,k]))\n",
    "                set_of_solutions.add(solution)\n",
    "\n",
    "\n",
    "print(len(set_of_solutions))\n"
   ]
  }
 ],
 "metadata": {
  "kernelspec": {
   "display_name": "Python 3.8.10 64-bit",
   "language": "python",
   "name": "python3"
  },
  "language_info": {
   "codemirror_mode": {
    "name": "ipython",
    "version": 3
   },
   "file_extension": ".py",
   "mimetype": "text/x-python",
   "name": "python",
   "nbconvert_exporter": "python",
   "pygments_lexer": "ipython3",
   "version": "3.8.10"
  },
  "orig_nbformat": 4,
  "vscode": {
   "interpreter": {
    "hash": "6483554bf77e49f26d1cfeccc1436a9d4b80aeba820a520b256fe42fe36dcf7f"
   }
  }
 },
 "nbformat": 4,
 "nbformat_minor": 2
}
