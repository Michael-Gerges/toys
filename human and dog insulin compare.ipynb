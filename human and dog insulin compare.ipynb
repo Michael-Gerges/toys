{
  "nbformat": 4,
  "nbformat_minor": 0,
  "metadata": {
    "colab": {
      "private_outputs": true,
      "provenance": []
    },
    "kernelspec": {
      "name": "python3",
      "display_name": "Python 3"
    },
    "language_info": {
      "name": "python"
    }
  },
  "cells": [
    {
      "cell_type": "code",
      "source": [
        "!curl https://ftp.ncbi.nlm.nih.gov/genomes/refseq/vertebrate_mammalian/Homo_sapiens/latest_assembly_versions/GCF_000001405.40_GRCh38.p14/GCF_000001405.40_GRCh38.p14_genomic.gbff.gz --output genomic.gbff.gz\n",
        "!gzip -d  genomic.gbff.gz\n",
        "!pip install Bio\n",
        "\n",
        "from Bio import SeqIO\n",
        "import pprint\n",
        "\n",
        "in_file='genomic.gbff' # 704 records\n",
        "\n",
        "in_handle = open(in_file, 'r')\n",
        "for i, record in enumerate(SeqIO.parse(in_handle, 'genbank')):\n",
        "    if \"Homo sapiens chromosome 11\" in record.description:\n",
        "    #pprint.pprint(record)\n",
        "    #print(dir(record))\n",
        "        print(record.description)\n",
        "        features = record.features\n",
        "        break\n",
        "    \n",
        "\n",
        "in_handle.close()\n",
        "\n",
        "for i, feature in enumerate(features):\n",
        "    if feature.type ==\"CDS\":\n",
        "        #print(feature.location)\n",
        "        if \"INS\" == (feature.qualifiers[\"gene\"][0]):\n",
        "            seqq = ((feature.extract(record)).seq)\n",
        "            #print(feature)\n",
        "            print(seqq)\n",
        "            print(feature.location)\n",
        "            print(feature.qualifiers[\"translation\"])\n",
        "\n",
        "\n",
        "\n"
      ],
      "metadata": {
        "id": "QuuORXKbJn2o"
      },
      "execution_count": null,
      "outputs": []
    },
    {
      "cell_type": "code",
      "source": [
        "!curl https://ftp.ncbi.nlm.nih.gov/genomes/refseq/vertebrate_mammalian/Canis_lupus_familiaris/latest_assembly_versions/GCF_000002285.5_Dog10K_Boxer_Tasha/GCF_000002285.5_Dog10K_Boxer_Tasha_genomic.gbff.gz  --output dog_genomic.gbff.gz\n",
        "!gzip -d  dog_genomic.gbff.gz\n"
      ],
      "metadata": {
        "id": "nnOO6Ps8TAOt"
      },
      "execution_count": null,
      "outputs": []
    },
    {
      "cell_type": "code",
      "source": [
        "in_file='dog_genomic.gbff' \n",
        "\n",
        "in_handle = open(in_file, 'r')\n",
        "for i, record in enumerate(SeqIO.parse(in_handle, 'genbank')):\n",
        "        features = record.features\n",
        "        for i, feature in enumerate(features):\n",
        "              if feature.type ==\"CDS\":\n",
        "                if \"INS\" == (feature.qualifiers[\"gene\"][0]):\n",
        "                  print(record.description)\n",
        "                  print(feature)\n",
        "\n"
      ],
      "metadata": {
        "id": "Bbs3GAiGTQ3d"
      },
      "execution_count": null,
      "outputs": []
    },
    {
      "cell_type": "code",
      "source": [
        "in_file='genomic.gbff' \n",
        "\n",
        "in_handle = open(in_file, 'r')\n",
        "for i, record in enumerate(SeqIO.parse(in_handle, 'genbank')):\n",
        "        features = record.features\n",
        "        for i, feature in enumerate(features):\n",
        "              if feature.type ==\"CDS\":\n",
        "                if \"INS\" == (feature.qualifiers[\"gene\"][0]):\n",
        "                  print(record.description)\n",
        "                  print(feature)"
      ],
      "metadata": {
        "id": "itTzFbnNU3hA"
      },
      "execution_count": null,
      "outputs": []
    },
    {
      "cell_type": "code",
      "source": [
        "from Bio.Align import substitution_matrices\n",
        "names = substitution_matrices.load()\n",
        "\n",
        "from Bio.Align import substitution_matrices\n",
        "from Bio import Align\n",
        "aligner = Align.PairwiseAligner()\n",
        "aligner.substitution_matrix = substitution_matrices.load(\"BLOSUM62\")\n",
        "\n",
        "#alignments = pairwise2.align.globalds(seq1, seq2, matrix, -10, -0.5)\n",
        "\n",
        "\n",
        "#alignments = aligner.align(\"KEVLA\", \"EVL\")\n",
        "\n",
        "# Define the protein sequences to compare\n",
        "seq1 = \"MALWMRLLPLLALLALWGPDPAAAFVNQHLCGSHLVEALYLVCGERGFFYTPKTRREAEDLQVGQVELGGGPGAGSLQPLALEGSLQKRGIVEQCCTSICSLYQLENYCN\"\n",
        "seq2 = \"MALWMRLLPLLALLALWAPAPTRAFVNQHLCGSHLVEALYLVCGERGFFYTPKARREVEDLQVRDVELAGAPGEGGLQPLALEGALQKRGIVEQCCTSICSLYQLENYCN\"\n",
        "alignments = aligner.align(seq1,seq2)\n",
        "\n",
        "\n",
        "alignments = list(alignments)\n",
        "print(\"Number of alignments: %d\" % len(alignments))\n",
        "alignment = alignments[0]\n",
        "print(\"Score = %.1f\" % alignment.score)\n",
        "print(alignment)\n",
        "\n",
        "seq1_aligned, seq2_aligned= alignment\n",
        "identity = sum([1 for a, b in zip(seq1_aligned, seq2_aligned) if a == b]) / len(seq1_aligned)\n",
        "\n",
        "# Print the percentage identity\n",
        "print(f\"Percentage identity: {identity:.2f}\")\n"
      ],
      "metadata": {
        "id": "1vXDI2V3Ul4v"
      },
      "execution_count": null,
      "outputs": []
    }
  ]
}