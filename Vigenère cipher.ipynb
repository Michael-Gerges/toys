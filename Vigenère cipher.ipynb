{
 "cells": [
  {
   "cell_type": "code",
   "execution_count": 87,
   "metadata": {},
   "outputs": [],
   "source": [
    "\n",
    "#for i_, letter in enumerate('abcdefghijklmnopqrstuvwxyz'):\n",
    "#    globals()[letter] = i_\n",
    "\n",
    "# Print the variables to verify\n",
    "#for letter in 'abcdefghijklmnopqrstuvwxyz':\n",
    "    #print(f\"{letter} = {globals()[letter]}\")\n"
   ]
  },
  {
   "cell_type": "code",
   "execution_count": 1,
   "metadata": {},
   "outputs": [],
   "source": [
    "dictonry = {}\n",
    "for i_, letter in enumerate('abcdefghijklmnopqrstuvwxyz'):\n",
    "    dictonry[letter] = i_\n",
    "\n",
    "file_path = r'C:\\Users\\micha\\OneDrive\\Desktop\\misc code\\large.js'\n",
    "\n",
    "# Open the file and read lines\n",
    "with open(file_path, 'r') as file:\n",
    "    lines = file.readlines()\n",
    "\n",
    "all_words = []\n",
    "\n",
    "for i in lines:\n",
    "    all_words.append(i.strip().replace(\",\",\"\").replace('\"',\"\").lower().replace(\"'\",\"\"))\n",
    "\n",
    "\n",
    "all_words = all_words + [\"helloworld\"]\n",
    "\n",
    "\n",
    "possible_keywords = []\n",
    "# Print each line\n",
    "for line in all_words:\n",
    "    if len(line) == 7:\n",
    "        possible_keywords.append(line + line+ line)\n",
    "\n"
   ]
  },
  {
   "cell_type": "code",
   "execution_count": 2,
   "metadata": {},
   "outputs": [],
   "source": [
    "def decode(message, key):\n",
    "    message = message.lower()\n",
    "    answer = \"\"\n",
    "    for i_,j_ in zip(message,key):\n",
    "        lettervalue = dictonry[i_]\n",
    "        keyvalue = dictonry[j_]\n",
    "        answervalue = lettervalue  - keyvalue\n",
    "        #print(answervalue)\n",
    "        try:\n",
    "            answerletter = [key for key, value in dictonry.items() if value == answervalue]\n",
    "            answerletter[0]\n",
    "            #print(answerletter)\n",
    "        except:\n",
    "            answervalue = 26 + answervalue\n",
    "            answerletter = [key for key, value in dictonry.items() if value == answervalue]\n",
    "        answer = answer + answerletter[0]\n",
    "    return answer\n",
    "\n",
    "\n",
    "\n",
    "def encode(message, key):\n",
    "    answer = \"\"\n",
    "    for i_,j_ in zip(message,key):\n",
    "        lettervalue = dictonry[i_]\n",
    "        keyvalue = dictonry[j_]\n",
    "        answervalue = lettervalue  + keyvalue\n",
    "        print(answervalue)\n",
    "        try:\n",
    "            answerletter = [key for key, value in dictonry.items() if value == answervalue]\n",
    "            answerletter[0]\n",
    "            print(answerletter)\n",
    "        except:\n",
    "            answervalue = answervalue - 26\n",
    "            answerletter = [key for key, value in dictonry.items() if value == answervalue]\n",
    "        answer = answer + answerletter[0]\n",
    "    return answer\n"
   ]
  },
  {
   "cell_type": "code",
   "execution_count": 3,
   "metadata": {},
   "outputs": [
    {
     "data": {
      "text/plain": [
       "'jghzwhyoryat'"
      ]
     },
     "execution_count": 3,
     "metadata": {},
     "output_type": "execute_result"
    }
   ],
   "source": [
    "message = \"lxfopvefrnhr\"\n",
    "key = \"cryptography\"\n",
    "decode(message,key)"
   ]
  },
  {
   "cell_type": "code",
   "execution_count": 4,
   "metadata": {},
   "outputs": [
    {
     "name": "stdout",
     "output_type": "stream",
     "text": [
      "helloworld\n"
     ]
    }
   ],
   "source": [
    "for key in possible_keywords:\n",
    "    ans = decode(\"rijhcnrbpb\", key)\n",
    "    if ans in all_words:\n",
    "        print(ans)"
   ]
  }
 ],
 "metadata": {
  "kernelspec": {
   "display_name": "Python 3",
   "language": "python",
   "name": "python3"
  },
  "language_info": {
   "codemirror_mode": {
    "name": "ipython",
    "version": 3
   },
   "file_extension": ".py",
   "mimetype": "text/x-python",
   "name": "python",
   "nbconvert_exporter": "python",
   "pygments_lexer": "ipython3",
   "version": "3.10.4"
  }
 },
 "nbformat": 4,
 "nbformat_minor": 2
}
